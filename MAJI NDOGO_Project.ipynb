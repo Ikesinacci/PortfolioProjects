{
 "cells": [
  {
   "cell_type": "markdown",
   "id": "ed25245d",
   "metadata": {},
   "source": [
    "# Data Analysis Project: [SOLVING WATER CRISIS IN MAJI NDOGO]"
   ]
  },
  {
   "cell_type": "markdown",
   "id": "adc95d0b",
   "metadata": {},
   "source": [
    "INTRODUCTION\n",
    "Background:\n",
    "This project aims to address a core concern in line with UN's SDG goals:..., real life datasets bearing information about countries of the world and their respective performances in tandem with UN's rubric of assessment. This project goes a step further to explore the A.I generated country of - MAJI NDOGO, rife with familiar living scenerios, similar livelihoods, struggles, and challenges to majority of the countries of the world. Peculiar to Maji Ndogo is the harrowing tale of water scarcity, in the urban and rural areas of the country.\n",
    "The water crisis ravaged the country to a breaking point that instigated the intervention of the President of Maji Ndogo."
   ]
  },
  {
   "cell_type": "markdown",
   "id": "88b4ab15",
   "metadata": {},
   "source": [
    "At the behest of the president, a project team was commisioned to remedy the water crisis. \n",
    "Teams of project managers, land surveyors, engineers, architects, foremen, drillers, microbiologists, laboratory scientists,accountants, data & business analysts, were contracted for the project.\n",
    "\n",
    "I happened to be one of the data analysts that comprised the team of analysts on the project.\n",
    "I will breakdown the processes employed by the team to ultimately define, strategize, and effectively solve the water crisis by enabling the respective teams with cognate information, and action plans based on meticulous data analysis, and reporting.\n"
   ]
  },
  {
   "cell_type": "markdown",
   "id": "9208c05b",
   "metadata": {},
   "source": []
  },
  {
   "cell_type": "markdown",
   "id": "9d74c2a0",
   "metadata": {},
   "source": [
    "# Data Preparation using Google Sheets"
   ]
  },
  {
   "cell_type": "markdown",
   "id": "d61b4e98",
   "metadata": {},
   "source": [
    "I will utilize python libraries to carry out key importation operations, since I am compiling the project on a Jupyter Notebook - ipykernel"
   ]
  },
  {
   "cell_type": "code",
   "execution_count": null,
   "id": "c966bb86",
   "metadata": {},
   "outputs": [],
   "source": []
  },
  {
   "cell_type": "markdown",
   "id": "01176485",
   "metadata": {},
   "source": [
    "importing pandas in order to import and load the google sheet files"
   ]
  },
  {
   "cell_type": "markdown",
   "id": "5f5675ca",
   "metadata": {},
   "source": [
    "import gspread\n",
    "from oauth2client.service_account import ServiceAccountCredentials\n",
    "import pandas as pd\n",
    "\n",
    "# Set up credentials\n",
    "scope = [\"https://spreadsheets.google.com/feeds\", \"https://www.googleapis.com/auth/drive\"]\n",
    "credentials = ServiceAccountCredentials.from_json_keyfile_name('path/to/credentials.json', scope)\n",
    "gc = gspread.authorize(credentials)\n",
    "\n",
    "df_excel = pd.read_excel('https://docs.google.com/spreadsheets/d/1r_nW4rCjMTlzsVM7t2KuC8ZsmFk37v9uC9owIIPrSvY/edit#gid=2084888717')\n",
    "# Open the Google Sheet by title\n",
    "worksheet = gc.open('Estimates of the use of water (2000-2020)').sheet1\n",
    "\n"
   ]
  },
  {
   "cell_type": "code",
   "execution_count": 20,
   "id": "f6099ff1",
   "metadata": {},
   "outputs": [
    {
     "name": "stdout",
     "output_type": "stream",
     "text": [
      "Requirement already satisfied: gspread in c:\\users\\ngozi okeke\\anaconda3\\lib\\site-packages (5.12.4)\n",
      "Requirement already satisfied: google-auth-oauthlib>=0.4.1 in c:\\users\\ngozi okeke\\anaconda3\\lib\\site-packages (from gspread) (1.2.0)\n",
      "Requirement already satisfied: google-auth>=1.12.0 in c:\\users\\ngozi okeke\\anaconda3\\lib\\site-packages (from gspread) (2.25.2)\n",
      "Requirement already satisfied: pyasn1-modules>=0.2.1 in c:\\users\\ngozi okeke\\anaconda3\\lib\\site-packages (from google-auth>=1.12.0->gspread) (0.2.8)\n",
      "Requirement already satisfied: rsa<5,>=3.1.4 in c:\\users\\ngozi okeke\\anaconda3\\lib\\site-packages (from google-auth>=1.12.0->gspread) (4.9)\n",
      "Requirement already satisfied: cachetools<6.0,>=2.0.0 in c:\\users\\ngozi okeke\\anaconda3\\lib\\site-packages (from google-auth>=1.12.0->gspread) (5.3.2)\n",
      "Requirement already satisfied: requests-oauthlib>=0.7.0 in c:\\users\\ngozi okeke\\anaconda3\\lib\\site-packages (from google-auth-oauthlib>=0.4.1->gspread) (1.3.1)\n",
      "Requirement already satisfied: pyasn1<0.5.0,>=0.4.6 in c:\\users\\ngozi okeke\\anaconda3\\lib\\site-packages (from pyasn1-modules>=0.2.1->google-auth>=1.12.0->gspread) (0.4.8)\n",
      "Requirement already satisfied: oauthlib>=3.0.0 in c:\\users\\ngozi okeke\\anaconda3\\lib\\site-packages (from requests-oauthlib>=0.7.0->google-auth-oauthlib>=0.4.1->gspread) (3.2.2)\n",
      "Requirement already satisfied: requests>=2.0.0 in c:\\users\\ngozi okeke\\anaconda3\\lib\\site-packages (from requests-oauthlib>=0.7.0->google-auth-oauthlib>=0.4.1->gspread) (2.28.1)\n",
      "Requirement already satisfied: urllib3<1.27,>=1.21.1 in c:\\users\\ngozi okeke\\anaconda3\\lib\\site-packages (from requests>=2.0.0->requests-oauthlib>=0.7.0->google-auth-oauthlib>=0.4.1->gspread) (1.26.14)\n",
      "Requirement already satisfied: charset-normalizer<3,>=2 in c:\\users\\ngozi okeke\\anaconda3\\lib\\site-packages (from requests>=2.0.0->requests-oauthlib>=0.7.0->google-auth-oauthlib>=0.4.1->gspread) (2.0.4)\n",
      "Requirement already satisfied: certifi>=2017.4.17 in c:\\users\\ngozi okeke\\anaconda3\\lib\\site-packages (from requests>=2.0.0->requests-oauthlib>=0.7.0->google-auth-oauthlib>=0.4.1->gspread) (2022.12.7)\n",
      "Requirement already satisfied: idna<4,>=2.5 in c:\\users\\ngozi okeke\\anaconda3\\lib\\site-packages (from requests>=2.0.0->requests-oauthlib>=0.7.0->google-auth-oauthlib>=0.4.1->gspread) (3.4)\n"
     ]
    }
   ],
   "source": [
    "!pip install gspread"
   ]
  },
  {
   "cell_type": "code",
   "execution_count": 1,
   "id": "a7cb18d3",
   "metadata": {},
   "outputs": [],
   "source": [
    "import pandas as pd\n",
    "import gspread\n",
    "from google.oauth2 import service_account\n",
    "import json\n",
    "import seaborn as sns"
   ]
  },
  {
   "cell_type": "code",
   "execution_count": 2,
   "id": "db82d32a",
   "metadata": {},
   "outputs": [],
   "source": [
    "import os"
   ]
  },
  {
   "cell_type": "code",
   "execution_count": 3,
   "id": "b6c1c134",
   "metadata": {},
   "outputs": [],
   "source": [
    "#Fetching the current working directory\n",
    "current_directory = os.getcwd()"
   ]
  },
  {
   "cell_type": "markdown",
   "id": "96809838",
   "metadata": {},
   "source": [
    "# Defining the path to service account JSON key file"
   ]
  },
  {
   "cell_type": "code",
   "execution_count": 4,
   "id": "9ea67abd",
   "metadata": {},
   "outputs": [
    {
     "name": "stdout",
     "output_type": "stream",
     "text": [
      "Full path: C:\\Users\\NGOZI OKEKE\\turing-flow-409922-860435444578.json\n"
     ]
    }
   ],
   "source": [
    "json_filename = 'turing-flow-409922-860435444578.json'\n",
    "json_file_path = os.path.join(current_directory, json_filename)\n",
    "\n",
    "# Print the full path for debugging\n",
    "print(f'Full path: {json_file_path}')\n",
    "\n",
    "try:\n",
    "    with open(json_file_path) as file:\n",
    "        data = file.read()\n",
    "    # Continue with the rest of your code that uses 'data'\n",
    "except FileNotFoundError:\n",
    "    print(f'The file {json_file_path} was not found.')\n",
    "    \n"
   ]
  },
  {
   "cell_type": "markdown",
   "id": "bd57fac2",
   "metadata": {},
   "source": [
    "# Generating credentials from the JSON key file"
   ]
  },
  {
   "cell_type": "code",
   "execution_count": 20,
   "id": "3a72275b",
   "metadata": {},
   "outputs": [],
   "source": [
    "credentials = service_account.Credentials.from_service_account_file(json_filename, scopes=['https://www.googleapis.com/auth/spreadsheets'])\n",
    "\n",
    "g_client = gspread.authorize(credentials)"
   ]
  },
  {
   "cell_type": "markdown",
   "id": "28b33ffc",
   "metadata": {},
   "source": [
    "#Creating a connection using the google sheet bearing my working data:"
   ]
  },
  {
   "cell_type": "code",
   "execution_count": 22,
   "id": "212ff7f5",
   "metadata": {},
   "outputs": [],
   "source": [
    "sheet = g_client.open_by_url('https://docs.google.com/spreadsheets/d/1dE6eyjm9Ig7wgovTbu0TkDjuwJzepYZUUQTmeAx5zBw/edit#gid=2084888717')"
   ]
  },
  {
   "cell_type": "code",
   "execution_count": 28,
   "id": "4b87823e",
   "metadata": {},
   "outputs": [],
   "source": [
    "# Creating and using a worksheet index\n",
    "sheet_import = sheet.get_worksheet(0)\n"
   ]
  },
  {
   "cell_type": "markdown",
   "id": "b174c1dd",
   "metadata": {},
   "source": [
    "Using the 'get_all_records()'function to extract data from the worksheet:\n"
   ]
  },
  {
   "cell_type": "markdown",
   "id": "78d3fd31",
   "metadata": {},
   "source": [
    "#Defining a variable for the worksheet"
   ]
  },
  {
   "cell_type": "code",
   "execution_count": 29,
   "id": "015dbf27",
   "metadata": {},
   "outputs": [],
   "source": [
    "use_of_water_un = sheet_import.get_all_records()"
   ]
  },
  {
   "cell_type": "code",
   "execution_count": 30,
   "id": "a4cd4f6c",
   "metadata": {},
   "outputs": [
    {
     "data": {
      "text/html": [
       "<div>\n",
       "<style scoped>\n",
       "    .dataframe tbody tr th:only-of-type {\n",
       "        vertical-align: middle;\n",
       "    }\n",
       "\n",
       "    .dataframe tbody tr th {\n",
       "        vertical-align: top;\n",
       "    }\n",
       "\n",
       "    .dataframe thead th {\n",
       "        text-align: right;\n",
       "    }\n",
       "</style>\n",
       "<table border=\"1\" class=\"dataframe\">\n",
       "  <thead>\n",
       "    <tr style=\"text-align: right;\">\n",
       "      <th></th>\n",
       "      <th>name</th>\n",
       "      <th>year</th>\n",
       "      <th>y_diff</th>\n",
       "      <th>pop_n</th>\n",
       "      <th>pop_u</th>\n",
       "      <th>wat_bas_n</th>\n",
       "      <th>wat_lim_n</th>\n",
       "      <th>wat_unimp_n</th>\n",
       "      <th>wat_sur_n</th>\n",
       "      <th>wat_bas_r</th>\n",
       "      <th>...</th>\n",
       "      <th>ARC_r</th>\n",
       "      <th>ARC_u</th>\n",
       "      <th>wat_bas_n (rounded)</th>\n",
       "      <th>wat_bas_r (rounded)</th>\n",
       "      <th>wat_bas_u (rounded)</th>\n",
       "      <th>ARC_n_full</th>\n",
       "      <th>ARC_r_full</th>\n",
       "      <th>ARC_u_full</th>\n",
       "      <th>ARC_diff</th>\n",
       "      <th>region</th>\n",
       "    </tr>\n",
       "  </thead>\n",
       "  <tbody>\n",
       "    <tr>\n",
       "      <th>0</th>\n",
       "      <td>Afghanistan</td>\n",
       "      <td>2015</td>\n",
       "      <td>5</td>\n",
       "      <td>34413.601560</td>\n",
       "      <td>24.802999</td>\n",
       "      <td>61.339781</td>\n",
       "      <td>3.5112</td>\n",
       "      <td>22.168784</td>\n",
       "      <td>12.980236</td>\n",
       "      <td>52.988502</td>\n",
       "      <td>...</td>\n",
       "      <td>2.667883</td>\n",
       "      <td>2.668212</td>\n",
       "      <td>61</td>\n",
       "      <td>53</td>\n",
       "      <td>87</td>\n",
       "      <td>not full access</td>\n",
       "      <td>not full access</td>\n",
       "      <td>not full access</td>\n",
       "      <td>-0.000329</td>\n",
       "      <td>South Asia</td>\n",
       "    </tr>\n",
       "    <tr>\n",
       "      <th>1</th>\n",
       "      <td>Afghanistan</td>\n",
       "      <td>2020</td>\n",
       "      <td></td>\n",
       "      <td>38928.339840</td>\n",
       "      <td>26.025999</td>\n",
       "      <td>75.091413</td>\n",
       "      <td>1.447542</td>\n",
       "      <td>14.560263</td>\n",
       "      <td>8.900782</td>\n",
       "      <td>66.327915</td>\n",
       "      <td>...</td>\n",
       "      <td></td>\n",
       "      <td></td>\n",
       "      <td>75</td>\n",
       "      <td>66</td>\n",
       "      <td>100</td>\n",
       "      <td>not full access</td>\n",
       "      <td>not full access</td>\n",
       "      <td>not full access</td>\n",
       "      <td>0</td>\n",
       "      <td>South Asia</td>\n",
       "    </tr>\n",
       "    <tr>\n",
       "      <th>2</th>\n",
       "      <td>Albania</td>\n",
       "      <td>2015</td>\n",
       "      <td>5</td>\n",
       "      <td>2890.523926</td>\n",
       "      <td>57.433998</td>\n",
       "      <td>93.394325</td>\n",
       "      <td>3.626384</td>\n",
       "      <td>2.979291</td>\n",
       "      <td>0</td>\n",
       "      <td>90.627275</td>\n",
       "      <td>...</td>\n",
       "      <td>0.692817</td>\n",
       "      <td>0.043748</td>\n",
       "      <td>93</td>\n",
       "      <td>91</td>\n",
       "      <td>95</td>\n",
       "      <td>not full access</td>\n",
       "      <td>not full access</td>\n",
       "      <td>not full access</td>\n",
       "      <td>0.649068</td>\n",
       "      <td>Europe &amp; Central Asia</td>\n",
       "    </tr>\n",
       "    <tr>\n",
       "      <th>3</th>\n",
       "      <td>Albania</td>\n",
       "      <td>2020</td>\n",
       "      <td></td>\n",
       "      <td>2877.800049</td>\n",
       "      <td>62.112000</td>\n",
       "      <td>95.068039</td>\n",
       "      <td>1.884656</td>\n",
       "      <td>3.047305</td>\n",
       "      <td>0</td>\n",
       "      <td>94.091358</td>\n",
       "      <td>...</td>\n",
       "      <td></td>\n",
       "      <td></td>\n",
       "      <td>95</td>\n",
       "      <td>94</td>\n",
       "      <td>96</td>\n",
       "      <td>not full access</td>\n",
       "      <td>not full access</td>\n",
       "      <td>not full access</td>\n",
       "      <td>0</td>\n",
       "      <td>Europe &amp; Central Asia</td>\n",
       "    </tr>\n",
       "    <tr>\n",
       "      <th>4</th>\n",
       "      <td>Algeria</td>\n",
       "      <td>2015</td>\n",
       "      <td>5</td>\n",
       "      <td>39728.019530</td>\n",
       "      <td>70.848000</td>\n",
       "      <td>93.409562</td>\n",
       "      <td>5.157781</td>\n",
       "      <td>1.275465</td>\n",
       "      <td>0.157193</td>\n",
       "      <td>88.352707</td>\n",
       "      <td>...</td>\n",
       "      <td>0.336966</td>\n",
       "      <td>0.102884</td>\n",
       "      <td>93</td>\n",
       "      <td>88</td>\n",
       "      <td>95</td>\n",
       "      <td>not full access</td>\n",
       "      <td>not full access</td>\n",
       "      <td>not full access</td>\n",
       "      <td>0.234082</td>\n",
       "      <td>Middle East &amp; North Africa</td>\n",
       "    </tr>\n",
       "  </tbody>\n",
       "</table>\n",
       "<p>5 rows × 28 columns</p>\n",
       "</div>"
      ],
      "text/plain": [
       "          name  year y_diff         pop_n      pop_u  wat_bas_n wat_lim_n  \\\n",
       "0  Afghanistan  2015      5  34413.601560  24.802999  61.339781    3.5112   \n",
       "1  Afghanistan  2020         38928.339840  26.025999  75.091413  1.447542   \n",
       "2      Albania  2015      5   2890.523926  57.433998  93.394325  3.626384   \n",
       "3      Albania  2020          2877.800049  62.112000  95.068039  1.884656   \n",
       "4      Algeria  2015      5  39728.019530  70.848000  93.409562  5.157781   \n",
       "\n",
       "  wat_unimp_n  wat_sur_n  wat_bas_r  ...     ARC_r     ARC_u  \\\n",
       "0   22.168784  12.980236  52.988502  ...  2.667883  2.668212   \n",
       "1   14.560263   8.900782  66.327915  ...                       \n",
       "2    2.979291          0  90.627275  ...  0.692817  0.043748   \n",
       "3    3.047305          0  94.091358  ...                       \n",
       "4    1.275465   0.157193  88.352707  ...  0.336966  0.102884   \n",
       "\n",
       "  wat_bas_n (rounded) wat_bas_r (rounded) wat_bas_u (rounded)  \\\n",
       "0                  61                  53                  87   \n",
       "1                  75                  66                 100   \n",
       "2                  93                  91                  95   \n",
       "3                  95                  94                  96   \n",
       "4                  93                  88                  95   \n",
       "\n",
       "        ARC_n_full       ARC_r_full       ARC_u_full  ARC_diff  \\\n",
       "0  not full access  not full access  not full access -0.000329   \n",
       "1  not full access  not full access  not full access         0   \n",
       "2  not full access  not full access  not full access  0.649068   \n",
       "3  not full access  not full access  not full access         0   \n",
       "4  not full access  not full access  not full access  0.234082   \n",
       "\n",
       "                       region  \n",
       "0                  South Asia  \n",
       "1                  South Asia  \n",
       "2       Europe & Central Asia  \n",
       "3       Europe & Central Asia  \n",
       "4  Middle East & North Africa  \n",
       "\n",
       "[5 rows x 28 columns]"
      ]
     },
     "execution_count": 30,
     "metadata": {},
     "output_type": "execute_result"
    }
   ],
   "source": [
    "use_of_water_un_2 = pd.DataFrame.from_dict(use_of_water_un)\n",
    "use_of_water_un_2.head()"
   ]
  },
  {
   "cell_type": "markdown",
   "id": "fda2b1ed",
   "metadata": {},
   "source": [
    "Displaying series of varied operations carried out to obtain key metrics and values across ranges of cells, charts, and graphs\n",
    "\n",
    "\n",
    "import gspread\n",
    "import pandas as pd\n",
    "import matplotlib.pyplot as plt\n",
    "\n",
    "# Assuming you have already authenticated and imported the worksheet\n",
    "# use_of_water_un is the gspread worksheet\n",
    "\n",
    "# Specify the range of cells you want to retrieve\n",
    "cell_range = 'A1:C10'  # Adjust this based on your specific range\n",
    "\n",
    "# Get the values from the specified range\n",
    "cell_values = use_of_water_un.get(cell_range)\n",
    "\n",
    "# Convert the values to a Pandas DataFrame\n",
    "use_of_water_un_df = pd.DataFrame(cell_values, columns=['Column1', 'Column2', 'Column3'])\n",
    "\n",
    "# Display the DataFrame\n",
    "print(use_of_water_un_df)\n",
    "\n",
    "# Create a simple bar chart using matplotlib\n",
    "use_of_water_un_df.plot(kind='bar', x='Column1', y='Column2', title='My Bar Chart')\n",
    "plt.show()"
   ]
  },
  {
   "cell_type": "markdown",
   "id": "e8023a8d",
   "metadata": {},
   "source": [
    "Displaying data from a different workbook within the worksheet\n",
    "\n",
    "import gspread\n",
    "import pandas as pd\n",
    "\n",
    "# Assuming you have already authenticated and imported the worksheet for the first workbook\n",
    "# use_of_water_un is the gspread worksheet\n",
    "\n",
    "# Open the second workbook\n",
    "gc = gspread.service_account()  # Use your credentials here\n",
    "second_workbook = gc.open('Name_of_Your_Second_Workbook')\n",
    "\n",
    "# Access the desired worksheet in the second workbook\n",
    "second_worksheet = second_workbook.get_worksheet(0)  # Change the index accordingly\n",
    "\n",
    "# Specify the range of cells you want to retrieve from the second workbook\n",
    "cell_range_second_workbook = 'A1:C10'  # Adjust this based on your specific range\n",
    "\n",
    "# Get the values from the specified range in the second workbook\n",
    "cell_values_second_workbook = second_worksheet.get(cell_range_second_workbook)\n",
    "\n",
    "# Convert the values to a Pandas DataFrame\n",
    "second_workbook_df = pd.DataFrame(cell_values_second_workbook, columns=['Column1', 'Column2', 'Column3'])\n",
    "\n",
    "# Display the DataFrame from the second workbook\n",
    "print(second_workbook_df)"
   ]
  },
  {
   "cell_type": "code",
   "execution_count": null,
   "id": "c2901fb4",
   "metadata": {},
   "outputs": [],
   "source": []
  }
 ],
 "metadata": {
  "kernelspec": {
   "display_name": "Python 3 (ipykernel)",
   "language": "python",
   "name": "python3"
  },
  "language_info": {
   "codemirror_mode": {
    "name": "ipython",
    "version": 3
   },
   "file_extension": ".py",
   "mimetype": "text/x-python",
   "name": "python",
   "nbconvert_exporter": "python",
   "pygments_lexer": "ipython3",
   "version": "3.10.9"
  }
 },
 "nbformat": 4,
 "nbformat_minor": 5
}
