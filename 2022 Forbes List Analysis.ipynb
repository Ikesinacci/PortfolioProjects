{
 "cells": [
  {
   "cell_type": "code",
   "execution_count": 1,
   "id": "8b6935ff",
   "metadata": {},
   "outputs": [],
   "source": [
    "import matplotlib.pyplot as plt\n",
    "import pandas as pd\n",
    "import numpy as np\n",
    "import seaborn as sns\n",
    "from bs4 import BeautifulSoup\n",
    "import requests"
   ]
  },
  {
   "cell_type": "code",
   "execution_count": 2,
   "id": "a3dc7150",
   "metadata": {},
   "outputs": [],
   "source": [
    "import os\n",
    "download_folder = 'C:\\\\Users\\\\NGOZI OKEKE\\\\Downloads'\n",
    "file_name = '2022_forbes_billionaires.csv'\n",
    "file_path = os.path.join(download_folder, file_name)"
   ]
  },
  {
   "cell_type": "code",
   "execution_count": 3,
   "id": "af6cac57",
   "metadata": {},
   "outputs": [],
   "source": [
    "Forbes_df=pd.read_csv(file_path,index_col=0)"
   ]
  },
  {
   "cell_type": "code",
   "execution_count": 4,
   "id": "dc3bb52e",
   "metadata": {},
   "outputs": [],
   "source": [
    "try:\n",
    "    Forbes_df=pd.read_csv(file_path,index_col=0)\n",
    "    #Forbes_df Dataframe available to work with\n",
    "except:\n",
    "    print(\"File {file_path} not found\")"
   ]
  },
  {
   "cell_type": "code",
   "execution_count": 5,
   "id": "acd637b1",
   "metadata": {},
   "outputs": [
    {
     "data": {
      "text/html": [
       "<div>\n",
       "<style scoped>\n",
       "    .dataframe tbody tr th:only-of-type {\n",
       "        vertical-align: middle;\n",
       "    }\n",
       "\n",
       "    .dataframe tbody tr th {\n",
       "        vertical-align: top;\n",
       "    }\n",
       "\n",
       "    .dataframe thead th {\n",
       "        text-align: right;\n",
       "    }\n",
       "</style>\n",
       "<table border=\"1\" class=\"dataframe\">\n",
       "  <thead>\n",
       "    <tr style=\"text-align: right;\">\n",
       "      <th></th>\n",
       "      <th>rank</th>\n",
       "      <th>name</th>\n",
       "      <th>networth</th>\n",
       "      <th>age</th>\n",
       "      <th>country</th>\n",
       "      <th>source</th>\n",
       "      <th>industry</th>\n",
       "    </tr>\n",
       "  </thead>\n",
       "  <tbody>\n",
       "    <tr>\n",
       "      <th>0</th>\n",
       "      <td>1</td>\n",
       "      <td>Elon Musk</td>\n",
       "      <td>$219 B</td>\n",
       "      <td>50</td>\n",
       "      <td>United States</td>\n",
       "      <td>Tesla, SpaceX</td>\n",
       "      <td>Automotive</td>\n",
       "    </tr>\n",
       "    <tr>\n",
       "      <th>1</th>\n",
       "      <td>2</td>\n",
       "      <td>Jeff Bezos</td>\n",
       "      <td>$171 B</td>\n",
       "      <td>58</td>\n",
       "      <td>United States</td>\n",
       "      <td>Amazon</td>\n",
       "      <td>Technology</td>\n",
       "    </tr>\n",
       "    <tr>\n",
       "      <th>2</th>\n",
       "      <td>3</td>\n",
       "      <td>Bernard Arnault &amp; family</td>\n",
       "      <td>$158 B</td>\n",
       "      <td>73</td>\n",
       "      <td>France</td>\n",
       "      <td>LVMH</td>\n",
       "      <td>Fashion &amp; Retail</td>\n",
       "    </tr>\n",
       "    <tr>\n",
       "      <th>3</th>\n",
       "      <td>4</td>\n",
       "      <td>Bill Gates</td>\n",
       "      <td>$129 B</td>\n",
       "      <td>66</td>\n",
       "      <td>United States</td>\n",
       "      <td>Microsoft</td>\n",
       "      <td>Technology</td>\n",
       "    </tr>\n",
       "    <tr>\n",
       "      <th>4</th>\n",
       "      <td>5</td>\n",
       "      <td>Warren Buffett</td>\n",
       "      <td>$118 B</td>\n",
       "      <td>91</td>\n",
       "      <td>United States</td>\n",
       "      <td>Berkshire Hathaway</td>\n",
       "      <td>Finance &amp; Investments</td>\n",
       "    </tr>\n",
       "  </tbody>\n",
       "</table>\n",
       "</div>"
      ],
      "text/plain": [
       "   rank                       name networth  age        country  \\\n",
       "0     1                 Elon Musk    $219 B   50  United States   \n",
       "1     2                Jeff Bezos    $171 B   58  United States   \n",
       "2     3  Bernard Arnault & family    $158 B   73         France   \n",
       "3     4                Bill Gates    $129 B   66  United States   \n",
       "4     5            Warren Buffett    $118 B   91  United States   \n",
       "\n",
       "               source                industry  \n",
       "0       Tesla, SpaceX             Automotive   \n",
       "1              Amazon             Technology   \n",
       "2                LVMH       Fashion & Retail   \n",
       "3           Microsoft             Technology   \n",
       "4  Berkshire Hathaway  Finance & Investments   "
      ]
     },
     "execution_count": 5,
     "metadata": {},
     "output_type": "execute_result"
    }
   ],
   "source": [
    "Forbes_df.head()"
   ]
  },
  {
   "cell_type": "code",
   "execution_count": 6,
   "id": "7059239f",
   "metadata": {},
   "outputs": [
    {
     "data": {
      "text/html": [
       "<div>\n",
       "<style scoped>\n",
       "    .dataframe tbody tr th:only-of-type {\n",
       "        vertical-align: middle;\n",
       "    }\n",
       "\n",
       "    .dataframe tbody tr th {\n",
       "        vertical-align: top;\n",
       "    }\n",
       "\n",
       "    .dataframe thead th {\n",
       "        text-align: right;\n",
       "    }\n",
       "</style>\n",
       "<table border=\"1\" class=\"dataframe\">\n",
       "  <thead>\n",
       "    <tr style=\"text-align: right;\">\n",
       "      <th></th>\n",
       "      <th>rank</th>\n",
       "      <th>name</th>\n",
       "      <th>networth</th>\n",
       "      <th>age</th>\n",
       "      <th>country</th>\n",
       "      <th>source</th>\n",
       "      <th>industry</th>\n",
       "    </tr>\n",
       "  </thead>\n",
       "  <tbody>\n",
       "    <tr>\n",
       "      <th>2595</th>\n",
       "      <td>2578</td>\n",
       "      <td>Jorge Gallardo Ballart</td>\n",
       "      <td>$1 B</td>\n",
       "      <td>80</td>\n",
       "      <td>Spain</td>\n",
       "      <td>pharmaceuticals</td>\n",
       "      <td>Healthcare</td>\n",
       "    </tr>\n",
       "    <tr>\n",
       "      <th>2596</th>\n",
       "      <td>2578</td>\n",
       "      <td>Nari Genomal</td>\n",
       "      <td>$1 B</td>\n",
       "      <td>82</td>\n",
       "      <td>Philippines</td>\n",
       "      <td>apparel</td>\n",
       "      <td>Fashion &amp; Retail</td>\n",
       "    </tr>\n",
       "    <tr>\n",
       "      <th>2597</th>\n",
       "      <td>2578</td>\n",
       "      <td>Ramesh Genomal</td>\n",
       "      <td>$1 B</td>\n",
       "      <td>71</td>\n",
       "      <td>Philippines</td>\n",
       "      <td>apparel</td>\n",
       "      <td>Fashion &amp; Retail</td>\n",
       "    </tr>\n",
       "    <tr>\n",
       "      <th>2598</th>\n",
       "      <td>2578</td>\n",
       "      <td>Sunder Genomal</td>\n",
       "      <td>$1 B</td>\n",
       "      <td>68</td>\n",
       "      <td>Philippines</td>\n",
       "      <td>garments</td>\n",
       "      <td>Fashion &amp; Retail</td>\n",
       "    </tr>\n",
       "    <tr>\n",
       "      <th>2599</th>\n",
       "      <td>2578</td>\n",
       "      <td>Horst-Otto Gerberding</td>\n",
       "      <td>$1 B</td>\n",
       "      <td>69</td>\n",
       "      <td>Germany</td>\n",
       "      <td>flavors and fragrances</td>\n",
       "      <td>Food &amp; Beverage</td>\n",
       "    </tr>\n",
       "  </tbody>\n",
       "</table>\n",
       "</div>"
      ],
      "text/plain": [
       "      rank                     name networth  age      country  \\\n",
       "2595  2578  Jorge Gallardo Ballart      $1 B   80        Spain   \n",
       "2596  2578            Nari Genomal      $1 B   82  Philippines   \n",
       "2597  2578          Ramesh Genomal      $1 B   71  Philippines   \n",
       "2598  2578          Sunder Genomal      $1 B   68  Philippines   \n",
       "2599  2578   Horst-Otto Gerberding      $1 B   69      Germany   \n",
       "\n",
       "                      source           industry  \n",
       "2595         pharmaceuticals        Healthcare   \n",
       "2596                 apparel  Fashion & Retail   \n",
       "2597                 apparel  Fashion & Retail   \n",
       "2598                garments  Fashion & Retail   \n",
       "2599  flavors and fragrances   Food & Beverage   "
      ]
     },
     "execution_count": 6,
     "metadata": {},
     "output_type": "execute_result"
    }
   ],
   "source": [
    "Forbes_df.tail()"
   ]
  },
  {
   "cell_type": "code",
   "execution_count": 9,
   "id": "bbbd11bf",
   "metadata": {},
   "outputs": [
    {
     "data": {
      "text/plain": [
       "rank                   130\n",
       "name        Aliko Dangote \n",
       "networth             $14 B\n",
       "age                     64\n",
       "country            Nigeria\n",
       "source       cement, sugar\n",
       "industry    Manufacturing \n",
       "Name: 129, dtype: object"
      ]
     },
     "execution_count": 9,
     "metadata": {},
     "output_type": "execute_result"
    }
   ],
   "source": [
    "Forbes_df.iloc[129]"
   ]
  },
  {
   "cell_type": "code",
   "execution_count": 10,
   "id": "56f8f506",
   "metadata": {},
   "outputs": [
    {
     "data": {
      "text/html": [
       "<div>\n",
       "<style scoped>\n",
       "    .dataframe tbody tr th:only-of-type {\n",
       "        vertical-align: middle;\n",
       "    }\n",
       "\n",
       "    .dataframe tbody tr th {\n",
       "        vertical-align: top;\n",
       "    }\n",
       "\n",
       "    .dataframe thead th {\n",
       "        text-align: right;\n",
       "    }\n",
       "</style>\n",
       "<table border=\"1\" class=\"dataframe\">\n",
       "  <thead>\n",
       "    <tr style=\"text-align: right;\">\n",
       "      <th></th>\n",
       "      <th>rank</th>\n",
       "      <th>age</th>\n",
       "    </tr>\n",
       "  </thead>\n",
       "  <tbody>\n",
       "    <tr>\n",
       "      <th>count</th>\n",
       "      <td>2600.000000</td>\n",
       "      <td>2600.000000</td>\n",
       "    </tr>\n",
       "    <tr>\n",
       "      <th>mean</th>\n",
       "      <td>1269.570769</td>\n",
       "      <td>64.271923</td>\n",
       "    </tr>\n",
       "    <tr>\n",
       "      <th>std</th>\n",
       "      <td>728.146364</td>\n",
       "      <td>13.220607</td>\n",
       "    </tr>\n",
       "    <tr>\n",
       "      <th>min</th>\n",
       "      <td>1.000000</td>\n",
       "      <td>19.000000</td>\n",
       "    </tr>\n",
       "    <tr>\n",
       "      <th>25%</th>\n",
       "      <td>637.000000</td>\n",
       "      <td>55.000000</td>\n",
       "    </tr>\n",
       "    <tr>\n",
       "      <th>50%</th>\n",
       "      <td>1292.000000</td>\n",
       "      <td>64.000000</td>\n",
       "    </tr>\n",
       "    <tr>\n",
       "      <th>75%</th>\n",
       "      <td>1929.000000</td>\n",
       "      <td>74.000000</td>\n",
       "    </tr>\n",
       "    <tr>\n",
       "      <th>max</th>\n",
       "      <td>2578.000000</td>\n",
       "      <td>100.000000</td>\n",
       "    </tr>\n",
       "  </tbody>\n",
       "</table>\n",
       "</div>"
      ],
      "text/plain": [
       "              rank          age\n",
       "count  2600.000000  2600.000000\n",
       "mean   1269.570769    64.271923\n",
       "std     728.146364    13.220607\n",
       "min       1.000000    19.000000\n",
       "25%     637.000000    55.000000\n",
       "50%    1292.000000    64.000000\n",
       "75%    1929.000000    74.000000\n",
       "max    2578.000000   100.000000"
      ]
     },
     "execution_count": 10,
     "metadata": {},
     "output_type": "execute_result"
    }
   ],
   "source": [
    "Forbes_df.describe()"
   ]
  },
  {
   "cell_type": "code",
   "execution_count": 11,
   "id": "a80d3f54",
   "metadata": {},
   "outputs": [],
   "source": [
    "Forbes_df['networth']=Forbes_df['networth'].apply(lambda x:x.replace('$','')).apply(lambda x:x.replace('B','')).apply(lambda x:x.replace(' ','')).astype(np.float64)"
   ]
  },
  {
   "cell_type": "code",
   "execution_count": 12,
   "id": "dc5d4814",
   "metadata": {},
   "outputs": [],
   "source": [
    "Forbes_df=Forbes_df.rename(columns={'rank':'Rank','networth':'Networth($ Billion)','name':'Name','age':'Age','country':'Country','source':'Source','industry':'Industry'})"
   ]
  },
  {
   "cell_type": "code",
   "execution_count": 13,
   "id": "abca946a",
   "metadata": {},
   "outputs": [
    {
     "data": {
      "text/plain": [
       "Rank                   0\n",
       "Name                   0\n",
       "Networth($ Billion)    0\n",
       "Age                    0\n",
       "Country                0\n",
       "Source                 0\n",
       "Industry               0\n",
       "dtype: int64"
      ]
     },
     "execution_count": 13,
     "metadata": {},
     "output_type": "execute_result"
    }
   ],
   "source": [
    "Forbes_df.isnull().sum()"
   ]
  },
  {
   "cell_type": "markdown",
   "id": "af5dafe0",
   "metadata": {},
   "source": [
    "First Analysis: Top 10 Billionaires on the Forbes list _ Chart visualization"
   ]
  },
  {
   "cell_type": "code",
   "execution_count": 14,
   "id": "721509f1",
   "metadata": {},
   "outputs": [
    {
     "name": "stderr",
     "output_type": "stream",
     "text": [
      "C:\\Users\\NGOZI OKEKE\\AppData\\Local\\Temp\\ipykernel_7220\\354282257.py:6: UserWarning: FixedFormatter should only be used together with FixedLocator\n",
      "  ax.set_xticklabels(labels=Forbes_df['Name'][:11], rotation=90)\n"
     ]
    },
    {
     "data": {
      "image/png": "[encoded data removed]",
      "text/plain": [
       "<Figure size 640x480 with 1 Axes>"
      ]
     },
     "metadata": {},
     "output_type": "display_data"
    }
   ],
   "source": [
    "fig,ax=plt.subplots()\n",
    "ax.bar(Forbes_df['Name'][:10],Forbes_df['Networth($ Billion)'][:10])\n",
    "[s.set_visible(False) for s in ax.spines.values()]\n",
    "ax.set_title('Top 10 Billonaires on Forbes')\n",
    "ax.set_ylabel('Networth $(Billions)')\n",
    "ax.set_xticklabels(labels=Forbes_df['Name'][:11], rotation=90)\n",
    "plt.grid(axis='y',linestyle='--',linewidth=0.3)\n",
    "plt.show()"
   ]
  },
  {
   "cell_type": "code",
   "execution_count": 16,
   "id": "186edcef",
   "metadata": {},
   "outputs": [
    {
     "data": {
      "text/plain": [
       "array(['United States', 'France', 'India', 'Mexico', 'China', 'Canada',\n",
       "       'Spain', 'Germany', 'Hong Kong', 'Italy', 'Australia', 'Austria',\n",
       "       'Japan', 'Indonesia', 'Switzerland', 'Chile', 'Russia',\n",
       "       'Singapore', 'Sweden', 'Czechia', 'United Kingdom', 'Brazil',\n",
       "       'Israel', 'Netherlands', 'Ireland', 'Nigeria', 'Denmark',\n",
       "       'Thailand', 'Cyprus', 'Malaysia', 'Taiwan', 'Monaco', 'Colombia',\n",
       "       'New Zealand', 'South Korea', 'Belgium', 'South Africa',\n",
       "       'Philippines', 'Egypt', 'Greece', 'Norway', 'Vietnam', 'Poland',\n",
       "       'Eswatini (Swaziland)', 'Peru', 'Algeria', 'Kazakhstan', 'Georgia',\n",
       "       'Portugal', 'Turkey', 'Finland', 'Ukraine', 'Argentina', 'Belize',\n",
       "       'Venezuela', 'Lebanon', 'Zimbabwe', 'Romania',\n",
       "       'United Arab Emirates', 'Oman', 'Iceland', 'Guernsey',\n",
       "       'Liechtenstein', 'Qatar', 'Morocco', 'Bulgaria', 'Macau',\n",
       "       'Slovakia', 'Barbados', 'Uruguay', 'Nepal', 'Tanzania',\n",
       "       'St. Kitts and Nevis', 'Hungary', 'Estonia'], dtype=object)"
      ]
     },
     "execution_count": 16,
     "metadata": {},
     "output_type": "execute_result"
    }
   ],
   "source": [
    "Forbes_df['Country'].unique()"
   ]
  },
  {
   "cell_type": "code",
   "execution_count": 17,
   "id": "169eae5e",
   "metadata": {},
   "outputs": [
    {
     "data": {
      "text/plain": [
       "75"
      ]
     },
     "execution_count": 17,
     "metadata": {},
     "output_type": "execute_result"
    }
   ],
   "source": [
    "len(Forbes_df['Country'].unique())"
   ]
  },
  {
   "cell_type": "code",
   "execution_count": 18,
   "id": "bc2653f2",
   "metadata": {},
   "outputs": [
    {
     "data": {
      "text/plain": [
       "Country\n",
       "Algeria            1\n",
       "Argentina          6\n",
       "Australia         44\n",
       "Austria           11\n",
       "Barbados           1\n",
       "                ... \n",
       "United States    719\n",
       "Uruguay            2\n",
       "Venezuela          1\n",
       "Vietnam            7\n",
       "Zimbabwe           1\n",
       "Length: 75, dtype: int64"
      ]
     },
     "execution_count": 18,
     "metadata": {},
     "output_type": "execute_result"
    }
   ],
   "source": [
    "Forbes_df.groupby('Country').size()"
   ]
  },
  {
   "cell_type": "code",
   "execution_count": 19,
   "id": "870d91ec",
   "metadata": {},
   "outputs": [],
   "source": [
    "Country_counts=Forbes_df.groupby('Country').size()"
   ]
  },
  {
   "cell_type": "code",
   "execution_count": 20,
   "id": "ead5268f",
   "metadata": {},
   "outputs": [],
   "source": [
    "Country_counts=Country_counts.to_frame()"
   ]
  },
  {
   "cell_type": "code",
   "execution_count": 21,
   "id": "815b8a2e",
   "metadata": {},
   "outputs": [],
   "source": [
    "Country_counts=Country_counts.rename(columns={0:'Count'})"
   ]
  },
  {
   "cell_type": "code",
   "execution_count": 22,
   "id": "d6c819a6",
   "metadata": {},
   "outputs": [],
   "source": [
    "Country_counts=Country_counts.sort_values(by='Count',ascending=False)"
   ]
  },
  {
   "cell_type": "code",
   "execution_count": 24,
   "id": "1d4da00e",
   "metadata": {},
   "outputs": [
    {
     "data": {
      "text/html": [
       "<div>\n",
       "<style scoped>\n",
       "    .dataframe tbody tr th:only-of-type {\n",
       "        vertical-align: middle;\n",
       "    }\n",
       "\n",
       "    .dataframe tbody tr th {\n",
       "        vertical-align: top;\n",
       "    }\n",
       "\n",
       "    .dataframe thead th {\n",
       "        text-align: right;\n",
       "    }\n",
       "</style>\n",
       "<table border=\"1\" class=\"dataframe\">\n",
       "  <thead>\n",
       "    <tr style=\"text-align: right;\">\n",
       "      <th></th>\n",
       "      <th>Count</th>\n",
       "    </tr>\n",
       "    <tr>\n",
       "      <th>Country</th>\n",
       "      <th></th>\n",
       "    </tr>\n",
       "  </thead>\n",
       "  <tbody>\n",
       "    <tr>\n",
       "      <th>United States</th>\n",
       "      <td>719</td>\n",
       "    </tr>\n",
       "    <tr>\n",
       "      <th>China</th>\n",
       "      <td>515</td>\n",
       "    </tr>\n",
       "    <tr>\n",
       "      <th>India</th>\n",
       "      <td>161</td>\n",
       "    </tr>\n",
       "    <tr>\n",
       "      <th>Germany</th>\n",
       "      <td>130</td>\n",
       "    </tr>\n",
       "    <tr>\n",
       "      <th>Russia</th>\n",
       "      <td>81</td>\n",
       "    </tr>\n",
       "    <tr>\n",
       "      <th>...</th>\n",
       "      <td>...</td>\n",
       "    </tr>\n",
       "    <tr>\n",
       "      <th>Eswatini (Swaziland)</th>\n",
       "      <td>1</td>\n",
       "    </tr>\n",
       "    <tr>\n",
       "      <th>Estonia</th>\n",
       "      <td>1</td>\n",
       "    </tr>\n",
       "    <tr>\n",
       "      <th>Belize</th>\n",
       "      <td>1</td>\n",
       "    </tr>\n",
       "    <tr>\n",
       "      <th>Barbados</th>\n",
       "      <td>1</td>\n",
       "    </tr>\n",
       "    <tr>\n",
       "      <th>Zimbabwe</th>\n",
       "      <td>1</td>\n",
       "    </tr>\n",
       "  </tbody>\n",
       "</table>\n",
       "<p>75 rows × 1 columns</p>\n",
       "</div>"
      ],
      "text/plain": [
       "                      Count\n",
       "Country                    \n",
       "United States           719\n",
       "China                   515\n",
       "India                   161\n",
       "Germany                 130\n",
       "Russia                   81\n",
       "...                     ...\n",
       "Eswatini (Swaziland)      1\n",
       "Estonia                   1\n",
       "Belize                    1\n",
       "Barbados                  1\n",
       "Zimbabwe                  1\n",
       "\n",
       "[75 rows x 1 columns]"
      ]
     },
     "execution_count": 24,
     "metadata": {},
     "output_type": "execute_result"
    }
   ],
   "source": [
    "Country_counts"
   ]
  },
  {
   "cell_type": "code",
   "execution_count": 25,
   "id": "ccc5c8d7",
   "metadata": {},
   "outputs": [
    {
     "name": "stderr",
     "output_type": "stream",
     "text": [
      "C:\\Users\\NGOZI OKEKE\\AppData\\Local\\Temp\\ipykernel_7220\\3643321487.py:6: UserWarning: FixedFormatter should only be used together with FixedLocator\n",
      "  ax2.set_xticklabels(labels=Country_counts.index, rotation=90)\n"
     ]
    },
    {
     "data": {
      "image/png": "[encoded data removed]",
      "text/plain": [
       "<Figure size 1000x600 with 1 Axes>"
      ]
     },
     "metadata": {},
     "output_type": "display_data"
    }
   ],
   "source": [
    "fig,ax2=plt.subplots(figsize=(10,6))\n",
    "ax2.bar(Country_counts.index[:10],Country_counts['Count'][:10])\n",
    "[s.set_visible(False) for s in ax2.spines.values()]\n",
    "ax2.set_title(\"Country's per count of Billonaire\")\n",
    "ax2.set_ylabel('Number of Billonaires per country')\n",
    "ax2.set_xticklabels(labels=Country_counts.index, rotation=90)\n",
    "plt.grid(axis='y',linestyle='--',linewidth=0.3)\n",
    "plt.show()"
   ]
  },
  {
   "cell_type": "markdown",
   "id": "f1106c5f",
   "metadata": {},
   "source": [
    "Provided the countries listed were as much as 25, I decided to split the plots in 10s because of the negligible difference in the country count width from Hong Kong downwards. Judging from the 2022 Forbes list, USA has the highest number of individuals, followed by China, India, Germany and Russia at 5th place. There appears to be a high volume of Asian countries on the list, leaving the question of how many African countries there are. This leads to my next question: \"How many African countries made it to the list?\n",
    "\n",
    "The source dataset does not have a column for Continent on its table, thereby necessitating the creation of a list of all African countries followed by a function to check which countries made the list. Let's dive in!"
   ]
  },
  {
   "cell_type": "code",
   "execution_count": 26,
   "id": "98b379cb",
   "metadata": {},
   "outputs": [],
   "source": [
    "Africa=[ 'Algeria','Angola','Benin','Botswana','Burkina Faso','Burundi','Cameroon','Cape Verd','Central African Republic',\n",
    "        'Chad','Comoros','Congo-Brazzaville','Congo-Kinshasa',\"Côte d'Ivoire\",'Djibouti','Egypt','Equatorial Guinea','Eritrea',\n",
    "        'Ethiopia','Gabon','Gambia','Ghana','Guinea','Guinea-Bissau','Kenya','Lesotho','Liberia','Libya','Madagascar','Malaw',\n",
    "        'Mali','Mauritania','Mauritius','Mayotte','Morocco','Mozambique','Namibia','Niger', 'Nigeria','Reunion','Rwanda',\n",
    "        'Saint Helena','Sao Tome and Príncipe','Senegal','Seychelles','Sierra Leone','Somalia','South Africa','Sudan',\n",
    "        'Swaziland','Tanzania','Togo','Tunisia','Uganda','Western Sahara(SADR)','Zambia','Zimbabwe']"
   ]
  },
  {
   "cell_type": "code",
   "execution_count": 31,
   "id": "d114c89d",
   "metadata": {},
   "outputs": [],
   "source": [
    "Country_in_list=[]\n",
    "for Country in Africa:\n",
    "    if Country in Country_counts.index:\n",
    "        Country_in_list.append(Country)"
   ]
  },
  {
   "cell_type": "code",
   "execution_count": 32,
   "id": "6493fe5d",
   "metadata": {},
   "outputs": [
    {
     "data": {
      "text/plain": [
       "['Algeria',\n",
       " 'Egypt',\n",
       " 'Morocco',\n",
       " 'Nigeria',\n",
       " 'South Africa',\n",
       " 'Tanzania',\n",
       " 'Zimbabwe']"
      ]
     },
     "execution_count": 32,
     "metadata": {},
     "output_type": "execute_result"
    }
   ],
   "source": [
    "Country_in_list"
   ]
  },
  {
   "cell_type": "markdown",
   "id": "fa1189b3",
   "metadata": {},
   "source": [
    "There are seven African countries present in the list. \n",
    "\n",
    "The country with the highest billionaire count would be..."
   ]
  },
  {
   "cell_type": "code",
   "execution_count": 33,
   "id": "9f5c3b1d",
   "metadata": {},
   "outputs": [
    {
     "data": {
      "text/html": [
       "<div>\n",
       "<style scoped>\n",
       "    .dataframe tbody tr th:only-of-type {\n",
       "        vertical-align: middle;\n",
       "    }\n",
       "\n",
       "    .dataframe tbody tr th {\n",
       "        vertical-align: top;\n",
       "    }\n",
       "\n",
       "    .dataframe thead th {\n",
       "        text-align: right;\n",
       "    }\n",
       "</style>\n",
       "<table border=\"1\" class=\"dataframe\">\n",
       "  <thead>\n",
       "    <tr style=\"text-align: right;\">\n",
       "      <th></th>\n",
       "      <th>Count</th>\n",
       "    </tr>\n",
       "    <tr>\n",
       "      <th>Country</th>\n",
       "      <th></th>\n",
       "    </tr>\n",
       "  </thead>\n",
       "  <tbody>\n",
       "    <tr>\n",
       "      <th>Algeria</th>\n",
       "      <td>1</td>\n",
       "    </tr>\n",
       "    <tr>\n",
       "      <th>Egypt</th>\n",
       "      <td>6</td>\n",
       "    </tr>\n",
       "    <tr>\n",
       "      <th>Morocco</th>\n",
       "      <td>2</td>\n",
       "    </tr>\n",
       "    <tr>\n",
       "      <th>Nigeria</th>\n",
       "      <td>3</td>\n",
       "    </tr>\n",
       "    <tr>\n",
       "      <th>South Africa</th>\n",
       "      <td>5</td>\n",
       "    </tr>\n",
       "    <tr>\n",
       "      <th>Tanzania</th>\n",
       "      <td>1</td>\n",
       "    </tr>\n",
       "    <tr>\n",
       "      <th>Zimbabwe</th>\n",
       "      <td>1</td>\n",
       "    </tr>\n",
       "  </tbody>\n",
       "</table>\n",
       "</div>"
      ],
      "text/plain": [
       "              Count\n",
       "Country            \n",
       "Algeria           1\n",
       "Egypt             6\n",
       "Morocco           2\n",
       "Nigeria           3\n",
       "South Africa      5\n",
       "Tanzania          1\n",
       "Zimbabwe          1"
      ]
     },
     "execution_count": 33,
     "metadata": {},
     "output_type": "execute_result"
    }
   ],
   "source": [
    "Country_counts.loc[['Algeria',\n",
    " 'Egypt',\n",
    " 'Morocco',\n",
    " 'Nigeria',\n",
    " 'South Africa',\n",
    " 'Tanzania',\n",
    " 'Zimbabwe']]"
   ]
  },
  {
   "cell_type": "markdown",
   "id": "42a1837e",
   "metadata": {},
   "source": [
    "The above shows that Egypt has the highest number of billionaires on the list. South Africa spots the 2nd highest, followed by Nigeria and then Morroco. \n",
    "As a bonafide Nigerian, I'm keen on knowing the Nigerians that made the list, so I explore further..."
   ]
  },
  {
   "cell_type": "code",
   "execution_count": 34,
   "id": "e70128a5",
   "metadata": {},
   "outputs": [
    {
     "data": {
      "text/plain": [
       "[129, 323, 359]"
      ]
     },
     "execution_count": 34,
     "metadata": {},
     "output_type": "execute_result"
    }
   ],
   "source": [
    "Forbes_df['Country'][Forbes_df['Country']=='Nigeria'].index.tolist()"
   ]
  },
  {
   "cell_type": "code",
   "execution_count": 35,
   "id": "ebbeb816",
   "metadata": {},
   "outputs": [],
   "source": [
    "Nigerian_Billonaires=Forbes_df.iloc[[129,323,359]]"
   ]
  },
  {
   "cell_type": "code",
   "execution_count": 38,
   "id": "79deb8f0",
   "metadata": {},
   "outputs": [
    {
     "name": "stderr",
     "output_type": "stream",
     "text": [
      "C:\\Users\\NGOZI OKEKE\\AppData\\Local\\Temp\\ipykernel_7220\\2262192373.py:6: UserWarning: FixedFormatter should only be used together with FixedLocator\n",
      "  ax3.set_xticklabels(labels=Nigerian_Billonaires['Name'])\n"
     ]
    },
    {
     "data": {
      "image/png": "[encoded data removed]",
      "text/plain": [
       "<Figure size 640x480 with 1 Axes>"
      ]
     },
     "metadata": {},
     "output_type": "display_data"
    }
   ],
   "source": [
    "fig,ax3=plt.subplots()\n",
    "ax3.bar(Nigerian_Billonaires['Name'],Nigerian_Billonaires['Networth($ Billion)'],color='indigo')\n",
    "[s.set_visible(False) for s in ax3.spines.values()]\n",
    "ax3.set_title('Nigerian Billonaires')\n",
    "ax.set_ylabel('Networth $(Billions)')\n",
    "ax3.set_xticklabels(labels=Nigerian_Billonaires['Name'])\n",
    "plt.grid(axis='y',linestyle='--',linewidth=0.3)\n",
    "plt.show()"
   ]
  },
  {
   "cell_type": "markdown",
   "id": "7f9be57f",
   "metadata": {},
   "source": [
    "The top 2 are an obvious occurence to Nigerians, but the 3rd individual is not well known. \n",
    "Sidebar: This means that Aliko Dangote is richer than the top 15 musicians in the USA combined🏃‍♂️\n",
    "\n",
    "This brings me to the next question: Which industry generates the most billonaires in the world?"
   ]
  },
  {
   "cell_type": "code",
   "execution_count": 39,
   "id": "c6ba53a9",
   "metadata": {},
   "outputs": [
    {
     "data": {
      "text/plain": [
       "array(['Automotive ', 'Technology ', 'Fashion & Retail ',\n",
       "       'Finance & Investments ', 'Diversified ', 'Media & Entertainment ',\n",
       "       'Telecom ', 'Food & Beverage ', 'Logistics ', 'Real Estate ',\n",
       "       'Metals & Mining ', 'Manufacturing ', 'Gambling & Casinos ',\n",
       "       'Healthcare ', 'Service ', 'Energy ',\n",
       "       'Construction & Engineering ', 'Sports '], dtype=object)"
      ]
     },
     "execution_count": 39,
     "metadata": {},
     "output_type": "execute_result"
    }
   ],
   "source": [
    "Forbes_df['Industry'].unique()"
   ]
  },
  {
   "cell_type": "code",
   "execution_count": 40,
   "id": "f5a159e7",
   "metadata": {},
   "outputs": [],
   "source": [
    "Forbes_df['Industry']=Forbes_df['Industry'].apply(lambda x:x.replace(' ',''))"
   ]
  },
  {
   "cell_type": "code",
   "execution_count": 41,
   "id": "f1ee1b48",
   "metadata": {},
   "outputs": [],
   "source": [
    "Industry_count=Forbes_df.groupby('Industry').size()"
   ]
  },
  {
   "cell_type": "code",
   "execution_count": 42,
   "id": "69c204d2",
   "metadata": {},
   "outputs": [],
   "source": [
    "Industry_count=Industry_count.to_frame()\n",
    "Industry_count=Industry_count.rename(columns={0:'Count'})\n",
    "Industry_count=Industry_count.sort_values(by='Count',ascending=False)"
   ]
  },
  {
   "cell_type": "code",
   "execution_count": 43,
   "id": "ee33d12b",
   "metadata": {},
   "outputs": [
    {
     "data": {
      "text/html": [
       "<div>\n",
       "<style scoped>\n",
       "    .dataframe tbody tr th:only-of-type {\n",
       "        vertical-align: middle;\n",
       "    }\n",
       "\n",
       "    .dataframe tbody tr th {\n",
       "        vertical-align: top;\n",
       "    }\n",
       "\n",
       "    .dataframe thead th {\n",
       "        text-align: right;\n",
       "    }\n",
       "</style>\n",
       "<table border=\"1\" class=\"dataframe\">\n",
       "  <thead>\n",
       "    <tr style=\"text-align: right;\">\n",
       "      <th></th>\n",
       "      <th>Count</th>\n",
       "    </tr>\n",
       "    <tr>\n",
       "      <th>Industry</th>\n",
       "      <th></th>\n",
       "    </tr>\n",
       "  </thead>\n",
       "  <tbody>\n",
       "    <tr>\n",
       "      <th>Finance&amp;Investments</th>\n",
       "      <td>386</td>\n",
       "    </tr>\n",
       "    <tr>\n",
       "      <th>Technology</th>\n",
       "      <td>329</td>\n",
       "    </tr>\n",
       "    <tr>\n",
       "      <th>Manufacturing</th>\n",
       "      <td>322</td>\n",
       "    </tr>\n",
       "    <tr>\n",
       "      <th>Fashion&amp;Retail</th>\n",
       "      <td>246</td>\n",
       "    </tr>\n",
       "    <tr>\n",
       "      <th>Healthcare</th>\n",
       "      <td>212</td>\n",
       "    </tr>\n",
       "    <tr>\n",
       "      <th>Food&amp;Beverage</th>\n",
       "      <td>201</td>\n",
       "    </tr>\n",
       "    <tr>\n",
       "      <th>RealEstate</th>\n",
       "      <td>189</td>\n",
       "    </tr>\n",
       "    <tr>\n",
       "      <th>Diversified</th>\n",
       "      <td>178</td>\n",
       "    </tr>\n",
       "    <tr>\n",
       "      <th>Media&amp;Entertainment</th>\n",
       "      <td>95</td>\n",
       "    </tr>\n",
       "    <tr>\n",
       "      <th>Energy</th>\n",
       "      <td>93</td>\n",
       "    </tr>\n",
       "    <tr>\n",
       "      <th>Automotive</th>\n",
       "      <td>69</td>\n",
       "    </tr>\n",
       "    <tr>\n",
       "      <th>Metals&amp;Mining</th>\n",
       "      <td>67</td>\n",
       "    </tr>\n",
       "    <tr>\n",
       "      <th>Service</th>\n",
       "      <td>51</td>\n",
       "    </tr>\n",
       "    <tr>\n",
       "      <th>Construction&amp;Engineering</th>\n",
       "      <td>43</td>\n",
       "    </tr>\n",
       "    <tr>\n",
       "      <th>Logistics</th>\n",
       "      <td>35</td>\n",
       "    </tr>\n",
       "    <tr>\n",
       "      <th>Telecom</th>\n",
       "      <td>35</td>\n",
       "    </tr>\n",
       "    <tr>\n",
       "      <th>Sports</th>\n",
       "      <td>26</td>\n",
       "    </tr>\n",
       "    <tr>\n",
       "      <th>Gambling&amp;Casinos</th>\n",
       "      <td>23</td>\n",
       "    </tr>\n",
       "  </tbody>\n",
       "</table>\n",
       "</div>"
      ],
      "text/plain": [
       "                          Count\n",
       "Industry                       \n",
       "Finance&Investments         386\n",
       "Technology                  329\n",
       "Manufacturing               322\n",
       "Fashion&Retail              246\n",
       "Healthcare                  212\n",
       "Food&Beverage               201\n",
       "RealEstate                  189\n",
       "Diversified                 178\n",
       "Media&Entertainment          95\n",
       "Energy                       93\n",
       "Automotive                   69\n",
       "Metals&Mining                67\n",
       "Service                      51\n",
       "Construction&Engineering     43\n",
       "Logistics                    35\n",
       "Telecom                      35\n",
       "Sports                       26\n",
       "Gambling&Casinos             23"
      ]
     },
     "execution_count": 43,
     "metadata": {},
     "output_type": "execute_result"
    }
   ],
   "source": [
    "Industry_count"
   ]
  },
  {
   "cell_type": "code",
   "execution_count": 44,
   "id": "951aded2",
   "metadata": {},
   "outputs": [
    {
     "data": {
      "image/png": "[encoded data removed]",
      "text/plain": [
       "<Figure size 640x480 with 1 Axes>"
      ]
     },
     "metadata": {},
     "output_type": "display_data"
    }
   ],
   "source": [
    "fig,ax4=plt.subplots()\n",
    "[s.set_visible(False) for s in ax4.spines.values()]\n",
    "ax4.barh(Industry_count.index,Industry_count['Count'])\n",
    "ax4.set_title('Top Industries by Count of Billonaires')\n",
    "ax4.set_xlabel('Count of Billonaires')\n",
    "plt.grid(axis='y',linestyle='--',linewidth=0.3)\n",
    "plt.show()"
   ]
  },
  {
   "cell_type": "markdown",
   "id": "3d0c9110",
   "metadata": {},
   "source": [
    "Next, unto to checking the AGE and MONEY relationship!"
   ]
  },
  {
   "cell_type": "code",
   "execution_count": 45,
   "id": "0b0376b6",
   "metadata": {},
   "outputs": [
    {
     "data": {
      "image/png": "[encoded data removed]",
      "text/plain": [
       "<Figure size 1000x500 with 1 Axes>"
      ]
     },
     "metadata": {},
     "output_type": "display_data"
    }
   ],
   "source": [
    "fig,ax5=plt.subplots(figsize=(10,5))\n",
    "ax5.scatter(Forbes_df['Age'],Forbes_df['Networth($ Billion)'],color='green')\n",
    "[s.set_visible(False) for s in ax5.spines.values()]\n",
    "ax5.set_title('Top Relationship between Money and Age')\n",
    "ax5.set_xlabel('Age')\n",
    "ax5.set_ylabel('Networth (billion$)')\n",
    "plt.grid(axis='y',linestyle='--',linewidth=0.3)\n",
    "plt.show()"
   ]
  },
  {
   "cell_type": "markdown",
   "id": "188ff323",
   "metadata": {},
   "source": [
    "This goes to show that there is little to no relationship between age and money..."
   ]
  },
  {
   "cell_type": "code",
   "execution_count": 46,
   "id": "0c8009a9",
   "metadata": {},
   "outputs": [
    {
     "data": {
      "image/png": "[encoded data removed]",
      "text/plain": [
       "<Figure size 600x500 with 1 Axes>"
      ]
     },
     "metadata": {},
     "output_type": "display_data"
    }
   ],
   "source": [
    "fig, ax6 = plt.subplots(figsize=(6,5))\n",
    "ax6.hist(Forbes_df['Age'])\n",
    "[s.set_visible(False) for s in ax6.spines.values()]\n",
    "ax6.set_title('Distribution of Age')\n",
    "ax6.set_xlabel('Age')\n",
    "plt.grid(axis='y',linestyle='--',linewidth=0.3)\n",
    "plt.show()"
   ]
  },
  {
   "cell_type": "code",
   "execution_count": 47,
   "id": "3d3f090e",
   "metadata": {},
   "outputs": [],
   "source": [
    "By_Age=Forbes_df.sort_values(by='Age',ascending=True)"
   ]
  },
  {
   "cell_type": "code",
   "execution_count": 48,
   "id": "750af706",
   "metadata": {
    "scrolled": true
   },
   "outputs": [
    {
     "data": {
      "text/html": [
       "<div>\n",
       "<style scoped>\n",
       "    .dataframe tbody tr th:only-of-type {\n",
       "        vertical-align: middle;\n",
       "    }\n",
       "\n",
       "    .dataframe tbody tr th {\n",
       "        vertical-align: top;\n",
       "    }\n",
       "\n",
       "    .dataframe thead th {\n",
       "        text-align: right;\n",
       "    }\n",
       "</style>\n",
       "<table border=\"1\" class=\"dataframe\">\n",
       "  <thead>\n",
       "    <tr style=\"text-align: right;\">\n",
       "      <th></th>\n",
       "      <th>Rank</th>\n",
       "      <th>Name</th>\n",
       "      <th>Networth($ Billion)</th>\n",
       "      <th>Age</th>\n",
       "      <th>Country</th>\n",
       "      <th>Source</th>\n",
       "      <th>Industry</th>\n",
       "    </tr>\n",
       "  </thead>\n",
       "  <tbody>\n",
       "    <tr>\n",
       "      <th>1311</th>\n",
       "      <td>1292</td>\n",
       "      <td>Kevin David Lehmann</td>\n",
       "      <td>2.4</td>\n",
       "      <td>19</td>\n",
       "      <td>Germany</td>\n",
       "      <td>drugstores</td>\n",
       "      <td>Fashion&amp;Retail</td>\n",
       "    </tr>\n",
       "    <tr>\n",
       "      <th>2062</th>\n",
       "      <td>1929</td>\n",
       "      <td>Wang Zelong</td>\n",
       "      <td>1.5</td>\n",
       "      <td>25</td>\n",
       "      <td>China</td>\n",
       "      <td>chemicals</td>\n",
       "      <td>Metals&amp;Mining</td>\n",
       "    </tr>\n",
       "    <tr>\n",
       "      <th>1975</th>\n",
       "      <td>1929</td>\n",
       "      <td>Pedro Franceschi</td>\n",
       "      <td>1.5</td>\n",
       "      <td>25</td>\n",
       "      <td>Brazil</td>\n",
       "      <td>fintech</td>\n",
       "      <td>Finance&amp;Investments</td>\n",
       "    </tr>\n",
       "    <tr>\n",
       "      <th>2190</th>\n",
       "      <td>2190</td>\n",
       "      <td>Alexandra Andresen</td>\n",
       "      <td>1.3</td>\n",
       "      <td>25</td>\n",
       "      <td>Norway</td>\n",
       "      <td>investments</td>\n",
       "      <td>Diversified</td>\n",
       "    </tr>\n",
       "    <tr>\n",
       "      <th>1961</th>\n",
       "      <td>1929</td>\n",
       "      <td>Henrique Dubugras</td>\n",
       "      <td>1.5</td>\n",
       "      <td>26</td>\n",
       "      <td>Brazil</td>\n",
       "      <td>fintech</td>\n",
       "      <td>Finance&amp;Investments</td>\n",
       "    </tr>\n",
       "    <tr>\n",
       "      <th>...</th>\n",
       "      <td>...</td>\n",
       "      <td>...</td>\n",
       "      <td>...</td>\n",
       "      <td>...</td>\n",
       "      <td>...</td>\n",
       "      <td>...</td>\n",
       "      <td>...</td>\n",
       "    </tr>\n",
       "    <tr>\n",
       "      <th>1939</th>\n",
       "      <td>1929</td>\n",
       "      <td>Ana Maria Brescia Cafferata</td>\n",
       "      <td>1.5</td>\n",
       "      <td>97</td>\n",
       "      <td>Peru</td>\n",
       "      <td>mining, banking</td>\n",
       "      <td>Diversified</td>\n",
       "    </tr>\n",
       "    <tr>\n",
       "      <th>1273</th>\n",
       "      <td>1238</td>\n",
       "      <td>Charles Munger</td>\n",
       "      <td>2.5</td>\n",
       "      <td>98</td>\n",
       "      <td>United States</td>\n",
       "      <td>Berkshire Hathaway</td>\n",
       "      <td>Finance&amp;Investments</td>\n",
       "    </tr>\n",
       "    <tr>\n",
       "      <th>1377</th>\n",
       "      <td>1341</td>\n",
       "      <td>David Murdock</td>\n",
       "      <td>2.3</td>\n",
       "      <td>98</td>\n",
       "      <td>United States</td>\n",
       "      <td>Dole, real estate</td>\n",
       "      <td>Food&amp;Beverage</td>\n",
       "    </tr>\n",
       "    <tr>\n",
       "      <th>162</th>\n",
       "      <td>163</td>\n",
       "      <td>Robert Kuok</td>\n",
       "      <td>11.7</td>\n",
       "      <td>98</td>\n",
       "      <td>Malaysia</td>\n",
       "      <td>palm oil, shipping, property</td>\n",
       "      <td>Diversified</td>\n",
       "    </tr>\n",
       "    <tr>\n",
       "      <th>1681</th>\n",
       "      <td>1645</td>\n",
       "      <td>George Joseph</td>\n",
       "      <td>1.8</td>\n",
       "      <td>100</td>\n",
       "      <td>United States</td>\n",
       "      <td>insurance</td>\n",
       "      <td>Finance&amp;Investments</td>\n",
       "    </tr>\n",
       "  </tbody>\n",
       "</table>\n",
       "<p>2600 rows × 7 columns</p>\n",
       "</div>"
      ],
      "text/plain": [
       "      Rank                          Name  Networth($ Billion)  Age  \\\n",
       "1311  1292          Kevin David Lehmann                   2.4   19   \n",
       "2062  1929                  Wang Zelong                   1.5   25   \n",
       "1975  1929             Pedro Franceschi                   1.5   25   \n",
       "2190  2190           Alexandra Andresen                   1.3   25   \n",
       "1961  1929            Henrique Dubugras                   1.5   26   \n",
       "...    ...                           ...                  ...  ...   \n",
       "1939  1929  Ana Maria Brescia Cafferata                   1.5   97   \n",
       "1273  1238               Charles Munger                   2.5   98   \n",
       "1377  1341                David Murdock                   2.3   98   \n",
       "162    163                  Robert Kuok                  11.7   98   \n",
       "1681  1645                George Joseph                   1.8  100   \n",
       "\n",
       "            Country                        Source             Industry  \n",
       "1311        Germany                    drugstores       Fashion&Retail  \n",
       "2062          China                     chemicals        Metals&Mining  \n",
       "1975         Brazil                       fintech  Finance&Investments  \n",
       "2190         Norway                   investments          Diversified  \n",
       "1961         Brazil                       fintech  Finance&Investments  \n",
       "...             ...                           ...                  ...  \n",
       "1939           Peru               mining, banking          Diversified  \n",
       "1273  United States            Berkshire Hathaway  Finance&Investments  \n",
       "1377  United States             Dole, real estate        Food&Beverage  \n",
       "162        Malaysia  palm oil, shipping, property          Diversified  \n",
       "1681  United States                     insurance  Finance&Investments  \n",
       "\n",
       "[2600 rows x 7 columns]"
      ]
     },
     "execution_count": 48,
     "metadata": {},
     "output_type": "execute_result"
    }
   ],
   "source": [
    "By_Age"
   ]
  },
  {
   "cell_type": "markdown",
   "id": "a5a9bc51",
   "metadata": {},
   "source": [
    "A display of the oldest and youngest billionaires on the list"
   ]
  }
 ],
 "metadata": {
  "kernelspec": {
   "display_name": "Python 3 (ipykernel)",
   "language": "python",
   "name": "python3"
  },
  "language_info": {
   "codemirror_mode": {
    "name": "ipython",
    "version": 3
   },
   "file_extension": ".py",
   "mimetype": "text/x-python",
   "name": "python",
   "nbconvert_exporter": "python",
   "pygments_lexer": "ipython3",
   "version": "3.10.9"
  }
 },
 "nbformat": 4,
 "nbformat_minor": 5
}
